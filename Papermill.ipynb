{
 "cells": [
  {
   "cell_type": "code",
   "execution_count": null,
   "id": "6958a23c",
   "metadata": {
    "tags": [
     "parameters",
     "metadata"
    ]
   },
   "outputs": [],
   "source": [
    "value = 0"
   ]
  },
  {
   "cell_type": "code",
   "execution_count": null,
   "id": "42578ce7",
   "metadata": {},
   "outputs": [],
   "source": [
    "impor[i for in range(0,10)]"
   ]
  },
  {
   "cell_type": "code",
   "execution_count": 1,
   "id": "ad9ea93e",
   "metadata": {},
   "outputs": [],
   "source": [
    "import os \n",
    "import boto3\n",
    "from pyspark.sql import SparkSession\n",
    "from pyspark.sql.types import *\n",
    "\n",
    "\n",
    "\n",
    "SPARK_PROPERTIES_FILE = \"/opt/spark/conf/spark.properties\"\n",
    "SPARK_APP_NAME_KEY = \"spark.app.name\"\n",
    "\n",
    "def read_config_file(path, key):\n",
    "    with open(path, 'r') as f:\n",
    "        for line in f.readlines():\n",
    "            line_split = line.replace(\"\\n\",\"\").split(\"=\")\n",
    "            k = line_split[0]\n",
    "            if len(line_split) > 1:\n",
    "                v = line_split[1]\n",
    "            if k == key:\n",
    "                return v\n",
    "    \n",
    "\n",
    "app_name = read_config_file(SPARK_PROPERTIES_FILE, SPARK_APP_NAME_KEY)\n",
    "spark = SparkSession.builder.appName(app_name).getOrCreate()\n",
    "\n",
    "columns = [\"language\",\"users_count\"]\n",
    "data = [(\"Java\", \"20000\"), (\"Python\", \"100000\"), (\"Scala\", \"3000\"), (\"R\", str(value))]\n",
    "rdd = spark.sparkContext.parallelize(data)\n",
    "\n",
    "df = rdd.toDF(columns)\n",
    "\n",
    "df \\\n",
    "    .write \\\n",
    "    .format(\"csv\") \\\n",
    "    .mode(\"overwrite\") \\\n",
    "    .save(\"s3a://dm-demo-data/papermill/output.csv\")\n",
    "\n",
    "spark.stop()\n",
    "\n"
   ]
  },
  {
   "cell_type": "code",
   "execution_count": null,
   "id": "7fca92a9",
   "metadata": {},
   "outputs": [],
   "source": []
  }
 ],
 "metadata": {
  "celltoolbar": "Tags",
  "kernelspec": {
   "display_name": "Python 3 (ipykernel)",
   "language": "python",
   "name": "python3"
  },
  "language_info": {
   "codemirror_mode": {
    "name": "ipython",
    "version": 3
   },
   "file_extension": ".py",
   "mimetype": "text/x-python",
   "name": "python",
   "nbconvert_exporter": "python",
   "pygments_lexer": "ipython3",
   "version": "3.9.6"
  }
 },
 "nbformat": 4,
 "nbformat_minor": 5
}
