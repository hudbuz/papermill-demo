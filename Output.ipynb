{
 "cells": [
  {
   "cell_type": "code",
   "execution_count": 1,
   "id": "68372b24",
   "metadata": {
    "execution": {
     "iopub.execute_input": "2021-10-14T14:12:28.252652Z",
     "iopub.status.busy": "2021-10-14T14:12:28.251937Z",
     "iopub.status.idle": "2021-10-14T14:12:28.255779Z",
     "shell.execute_reply": "2021-10-14T14:12:28.256265Z"
    },
    "papermill": {
     "duration": 0.018059,
     "end_time": "2021-10-14T14:12:28.256523",
     "exception": false,
     "start_time": "2021-10-14T14:12:28.238464",
     "status": "completed"
    },
    "tags": []
   },
   "outputs": [
    {
     "name": "stdout",
     "output_type": "stream",
     "text": [
      "hello world\n"
     ]
    }
   ],
   "source": [
    "print(\"hello world\")"
   ]
  },
  {
   "cell_type": "code",
   "execution_count": 2,
   "id": "28f0a3b2",
   "metadata": {
    "execution": {
     "iopub.execute_input": "2021-10-14T14:12:28.267574Z",
     "iopub.status.busy": "2021-10-14T14:12:28.266809Z",
     "iopub.status.idle": "2021-10-14T14:12:28.269290Z",
     "shell.execute_reply": "2021-10-14T14:12:28.269811Z"
    },
    "papermill": {
     "duration": 0.010163,
     "end_time": "2021-10-14T14:12:28.270050",
     "exception": false,
     "start_time": "2021-10-14T14:12:28.259887",
     "status": "completed"
    },
    "tags": []
   },
   "outputs": [],
   "source": [
    "with open(\"/Users/hbuzby/dev/demos/papermill-demo/output.txt\",\"wb\") as f:\n",
    "    f.write(b\"hello world\")\n",
    "    "
   ]
  },
  {
   "cell_type": "code",
   "execution_count": null,
   "id": "7702fb7c",
   "metadata": {
    "papermill": {
     "duration": 0.002866,
     "end_time": "2021-10-14T14:12:28.275914",
     "exception": false,
     "start_time": "2021-10-14T14:12:28.273048",
     "status": "completed"
    },
    "tags": []
   },
   "outputs": [],
   "source": []
  }
 ],
 "metadata": {
  "kernelspec": {
   "display_name": "Python 3 (ipykernel)",
   "language": "python",
   "name": "python3"
  },
  "language_info": {
   "codemirror_mode": {
    "name": "ipython",
    "version": 3
   },
   "file_extension": ".py",
   "mimetype": "text/x-python",
   "name": "python",
   "nbconvert_exporter": "python",
   "pygments_lexer": "ipython3",
   "version": "3.9.6"
  },
  "papermill": {
   "default_parameters": {},
   "duration": 1.144685,
   "end_time": "2021-10-14T14:12:28.387597",
   "environment_variables": {},
   "exception": null,
   "input_path": "/Users/hbuzby/dev/demos/papermill-demo/Papermill.ipynb",
   "output_path": "/Users/hbuzby/dev/demos/papermill-demo/Output.ipynb",
   "parameters": {},
   "start_time": "2021-10-14T14:12:27.242912",
   "version": "2.3.3"
  }
 },
 "nbformat": 4,
 "nbformat_minor": 5
}